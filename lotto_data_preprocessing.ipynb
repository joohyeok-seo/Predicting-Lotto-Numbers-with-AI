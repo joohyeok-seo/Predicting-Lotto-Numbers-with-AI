{
 "cells": [
  {
   "cell_type": "code",
   "execution_count": 1,
   "metadata": {},
   "outputs": [],
   "source": [
    "import pandas as pd"
   ]
  },
  {
   "cell_type": "code",
   "execution_count": 12,
   "metadata": {},
   "outputs": [],
   "source": [
    "from sklearn.preprocessing import MinMaxScaler\n",
    "from sklearn.model_selection import train_test_split"
   ]
  },
  {
   "cell_type": "markdown",
   "metadata": {},
   "source": [
    "# Read CSV file"
   ]
  },
  {
   "cell_type": "code",
   "execution_count": 2,
   "metadata": {},
   "outputs": [],
   "source": [
    "# Load the CSV file\n",
    "lotto_data = pd.read_csv(\"lotto_data_1_to_1148.csv\")"
   ]
  },
  {
   "cell_type": "code",
   "execution_count": 4,
   "metadata": {},
   "outputs": [
    {
     "name": "stdout",
     "output_type": "stream",
     "text": [
      "      Round        Date                  Numbers  Bonus\n",
      "1143   1144  2024-11-02   [3, 4, 12, 15, 26, 34]      6\n",
      "1144   1145  2024-11-09  [2, 11, 31, 33, 37, 44]     32\n",
      "1145   1146  2024-11-16  [6, 11, 17, 19, 40, 43]     28\n",
      "1146   1147  2024-11-23  [7, 11, 24, 26, 27, 37]     32\n",
      "1147   1148  2024-11-30   [3, 6, 13, 15, 16, 22]     32\n"
     ]
    }
   ],
   "source": [
    "# Display the first few rows to check the data\n",
    "print(lotto_data.tail())"
   ]
  },
  {
   "cell_type": "markdown",
   "metadata": {},
   "source": [
    "# Separate Numbers Columns"
   ]
  },
  {
   "cell_type": "code",
   "execution_count": 5,
   "metadata": {},
   "outputs": [],
   "source": [
    "# Split 'Numbers' column into individual columns\n",
    "numbers_df = pd.DataFrame(lotto_data['Numbers'].apply(eval).tolist(), columns=['Number1', 'Number2', 'Number3', 'Number4', 'Number5', 'Number6'])"
   ]
  },
  {
   "cell_type": "code",
   "execution_count": 6,
   "metadata": {},
   "outputs": [],
   "source": [
    "# Merge the split columns back to the original DataFrame\n",
    "lotto_data = pd.concat([lotto_data, numbers_df], axis=1)"
   ]
  },
  {
   "cell_type": "code",
   "execution_count": 7,
   "metadata": {},
   "outputs": [],
   "source": [
    "# Drop the original 'Numbers' column\n",
    "lotto_data.drop(columns=['Numbers'], inplace=True)"
   ]
  },
  {
   "cell_type": "code",
   "execution_count": 17,
   "metadata": {},
   "outputs": [
    {
     "name": "stdout",
     "output_type": "stream",
     "text": [
      "      Round        Date  Bonus  Number1  Number2  Number3  Number4  Number5  \\\n",
      "1143   1144  2024-11-02      6        3        4       12       15       26   \n",
      "1144   1145  2024-11-09     32        2       11       31       33       37   \n",
      "1145   1146  2024-11-16     28        6       11       17       19       40   \n",
      "1146   1147  2024-11-23     32        7       11       24       26       27   \n",
      "1147   1148  2024-11-30     32        3        6       13       15       16   \n",
      "\n",
      "      Number6  \n",
      "1143       34  \n",
      "1144       44  \n",
      "1145       43  \n",
      "1146       37  \n",
      "1147       22  \n"
     ]
    }
   ],
   "source": [
    "# Display the updated DataFrame\n",
    "print(lotto_data.tail())"
   ]
  },
  {
   "cell_type": "markdown",
   "metadata": {},
   "source": [
    "# Missing value handling"
   ]
  },
  {
   "cell_type": "code",
   "execution_count": 10,
   "metadata": {},
   "outputs": [
    {
     "name": "stdout",
     "output_type": "stream",
     "text": [
      "Missing values per column:\n",
      "Round      0\n",
      "Date       0\n",
      "Bonus      0\n",
      "Number1    0\n",
      "Number2    0\n",
      "Number3    0\n",
      "Number4    0\n",
      "Number5    0\n",
      "Number6    0\n",
      "dtype: int64\n"
     ]
    }
   ],
   "source": [
    "# Check for missing values\n",
    "print(\"Missing values per column:\")\n",
    "print(lotto_data.isnull().sum())"
   ]
  },
  {
   "cell_type": "code",
   "execution_count": 11,
   "metadata": {},
   "outputs": [],
   "source": [
    "# No missing values detected, no need to fill or drop rows\n",
    "# lotto_data.fillna(-1, inplace=True)  # Not needed"
   ]
  },
  {
   "cell_type": "markdown",
   "metadata": {},
   "source": [
    "# Data scaling"
   ]
  },
  {
   "cell_type": "code",
   "execution_count": 13,
   "metadata": {},
   "outputs": [],
   "source": [
    "# Original (Non-scaled) data preparation\n",
    "original_data = lotto_data.copy()  # Keep the original data for non-scaled processing"
   ]
  },
  {
   "cell_type": "code",
   "execution_count": 14,
   "metadata": {},
   "outputs": [],
   "source": [
    "# Prepare scaled data using MinMaxScaler\n",
    "scaler = MinMaxScaler()  # Initialize the MinMaxScaler\n",
    "scaled_data = lotto_data.copy()  # Copy the original data for scaling\n",
    "scaled_data[['Number1', 'Number2', 'Number3', 'Number4', 'Number5', 'Number6']] = scaler.fit_transform(\n",
    "    scaled_data[['Number1', 'Number2', 'Number3', 'Number4', 'Number5', 'Number6']]\n",
    ")  # Apply scaling to the number columns"
   ]
  },
  {
   "cell_type": "code",
   "execution_count": 15,
   "metadata": {},
   "outputs": [
    {
     "name": "stdout",
     "output_type": "stream",
     "text": [
      "      Round        Date  Bonus   Number1   Number2   Number3   Number4  \\\n",
      "1143   1144  2024-11-02      6  0.058824  0.057143  0.243243  0.263158   \n",
      "1144   1145  2024-11-09     32  0.029412  0.257143  0.756757  0.736842   \n",
      "1145   1146  2024-11-16     28  0.147059  0.257143  0.378378  0.368421   \n",
      "1146   1147  2024-11-23     32  0.176471  0.257143  0.567568  0.552632   \n",
      "1147   1148  2024-11-30     32  0.058824  0.114286  0.270270  0.263158   \n",
      "\n",
      "       Number5   Number6  \n",
      "1143  0.485714  0.592593  \n",
      "1144  0.800000  0.962963  \n",
      "1145  0.885714  0.925926  \n",
      "1146  0.514286  0.703704  \n",
      "1147  0.200000  0.148148  \n"
     ]
    }
   ],
   "source": [
    "print(scaled_data.tail())"
   ]
  },
  {
   "cell_type": "markdown",
   "metadata": {},
   "source": [
    "# Dataset Separation"
   ]
  },
  {
   "cell_type": "code",
   "execution_count": 18,
   "metadata": {},
   "outputs": [],
   "source": [
    "# Split non-scaled data into training and testing sets\n",
    "X_original = original_data[['Number1', 'Number2', 'Number3', 'Number4', 'Number5', 'Number6']]  # Features for non-scaled\n",
    "y_original = original_data['Bonus']  # Target for non-scaled\n",
    "X_train_original, X_test_original, y_train_original, y_test_original = train_test_split(\n",
    "    X_original, y_original, test_size=0.2, random_state=42  # 80% training, 20% testing\n",
    ")"
   ]
  },
  {
   "cell_type": "code",
   "execution_count": 19,
   "metadata": {},
   "outputs": [],
   "source": [
    "# Split scaled data into training and testing sets\n",
    "X_scaled = scaled_data[['Number1', 'Number2', 'Number3', 'Number4', 'Number5', 'Number6']]  # Features for scaled\n",
    "y_scaled = scaled_data['Bonus']  # Target for scaled\n",
    "X_train_scaled, X_test_scaled, y_train_scaled, y_test_scaled = train_test_split(\n",
    "    X_scaled, y_scaled, test_size=0.2, random_state=42  # 80% training, 20% testing\n",
    ")"
   ]
  },
  {
   "cell_type": "code",
   "execution_count": 20,
   "metadata": {},
   "outputs": [
    {
     "name": "stdout",
     "output_type": "stream",
     "text": [
      "Original Data - Training set size: (918, 6)\n",
      "Original Data - Testing set size: (230, 6)\n",
      "Scaled Data - Training set size: (918, 6)\n",
      "Scaled Data - Testing set size: (230, 6)\n"
     ]
    }
   ],
   "source": [
    "# Display the size of each dataset\n",
    "print(\"Original Data - Training set size:\", X_train_original.shape)  # Display training set size (non-scaled)\n",
    "print(\"Original Data - Testing set size:\", X_test_original.shape)    # Display testing set size (non-scaled)\n",
    "print(\"Scaled Data - Training set size:\", X_train_scaled.shape)      # Display training set size (scaled)\n",
    "print(\"Scaled Data - Testing set size:\", X_test_scaled.shape)        # Display testing set size (scaled)"
   ]
  }
 ],
 "metadata": {
  "kernelspec": {
   "display_name": "base",
   "language": "python",
   "name": "python3"
  },
  "language_info": {
   "codemirror_mode": {
    "name": "ipython",
    "version": 3
   },
   "file_extension": ".py",
   "mimetype": "text/x-python",
   "name": "python",
   "nbconvert_exporter": "python",
   "pygments_lexer": "ipython3",
   "version": "3.10.15"
  }
 },
 "nbformat": 4,
 "nbformat_minor": 2
}
