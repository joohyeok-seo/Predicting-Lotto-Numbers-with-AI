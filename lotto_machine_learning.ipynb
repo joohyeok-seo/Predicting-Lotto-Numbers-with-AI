{
 "cells": [
  {
   "cell_type": "code",
   "execution_count": 3,
   "metadata": {},
   "outputs": [],
   "source": [
    "import pandas as pd\n",
    "from sklearn.preprocessing import MinMaxScaler\n",
    "from sklearn.model_selection import train_test_split\n",
    "from sklearn.ensemble import RandomForestClassifier\n",
    "from sklearn.metrics import accuracy_score  # Import accuracy_score to evaluate model\n",
    "from sklearn.ensemble import RandomForestClassifier\n",
    "import numpy as np\n",
    "\n",
    "# Load the CSV file\n",
    "lotto_data = pd.read_csv(\"lotto_data_1_to_1148.csv\")\n",
    "\n",
    "# Split 'Numbers' column into individual columns\n",
    "numbers_df = pd.DataFrame(lotto_data['Numbers'].apply(eval).tolist(), columns=['Number1', 'Number2', 'Number3', 'Number4', 'Number5', 'Number6'])\n",
    "\n",
    "# Merge the split columns back to the original DataFrame\n",
    "lotto_data = pd.concat([lotto_data, numbers_df], axis=1)\n",
    "\n",
    "# Drop the original 'Numbers' column\n",
    "lotto_data.drop(columns=['Numbers'], inplace=True)\n",
    "\n",
    "# Original (Non-scaled) data preparation\n",
    "original_data = lotto_data.copy()  # Keep the original data for non-scaled processing\n",
    "\n",
    "# Prepare scaled data using MinMaxScaler\n",
    "scaler = MinMaxScaler()  # Initialize the MinMaxScaler\n",
    "scaled_data = lotto_data.copy()  # Copy the original data for scaling\n",
    "scaled_data[['Number1', 'Number2', 'Number3', 'Number4', 'Number5', 'Number6']] = scaler.fit_transform(\n",
    "    scaled_data[['Number1', 'Number2', 'Number3', 'Number4', 'Number5', 'Number6']]\n",
    ")  # Apply scaling to the number columns\n",
    "\n",
    "# Split non-scaled data into training and testing sets\n",
    "X_original = original_data[['Number1', 'Number2', 'Number3', 'Number4', 'Number5', 'Number6']]  # Features for non-scaled\n",
    "y_original = original_data['Bonus']  # Target for non-scaled\n",
    "X_train_original, X_test_original, y_train_original, y_test_original = train_test_split(\n",
    "    X_original, y_original, test_size=0.2, random_state=42  # 80% training, 20% testing\n",
    ")\n",
    "\n",
    "# Split scaled data into training and testing sets\n",
    "X_scaled = scaled_data[['Number1', 'Number2', 'Number3', 'Number4', 'Number5', 'Number6']]  # Features for scaled\n",
    "y_scaled = scaled_data['Bonus']  # Target for scaled\n",
    "X_train_scaled, X_test_scaled, y_train_scaled, y_test_scaled = train_test_split(\n",
    "    X_scaled, y_scaled, test_size=0.2, random_state=42  # 80% training, 20% testing\n",
    ")"
   ]
  },
  {
   "cell_type": "markdown",
   "metadata": {},
   "source": [
    "# Non-scaled Data"
   ]
  },
  {
   "cell_type": "markdown",
   "metadata": {},
   "source": [
    "## Random Forest"
   ]
  },
  {
   "cell_type": "code",
   "execution_count": 18,
   "metadata": {},
   "outputs": [
    {
     "name": "stdout",
     "output_type": "stream",
     "text": [
      "Random Forest Accuracy (Non-scaled Data): 0.034782608695652174\n"
     ]
    }
   ],
   "source": [
    "# Random Forest with Non-scaled Data\n",
    "rf_original = RandomForestClassifier(random_state=42)  # Initialize Random Forest\n",
    "rf_original.fit(X_train_original, y_train_original)  # Train the model\n",
    "y_pred_original = rf_original.predict(X_test_original)  # Predict on test data\n",
    "accuracy_original = accuracy_score(y_test_original, y_pred_original)  # Calculate accuracy\n",
    "print(\"Random Forest Accuracy (Non-scaled Data):\", accuracy_original)"
   ]
  },
  {
   "cell_type": "code",
   "execution_count": 19,
   "metadata": {},
   "outputs": [
    {
     "name": "stdout",
     "output_type": "stream",
     "text": [
      "Random Forest Accuracy (Scaled Data): 0.030434782608695653\n"
     ]
    }
   ],
   "source": [
    "# Random Forest with Scaled Data\n",
    "rf_scaled = RandomForestClassifier(random_state=42)  # Initialize Random Forest\n",
    "rf_scaled.fit(X_train_scaled, y_train_scaled)  # Train the model\n",
    "y_pred_scaled = rf_scaled.predict(X_test_scaled)  # Predict on test data\n",
    "accuracy_scaled = accuracy_score(y_test_scaled, y_pred_scaled)  # Calculate accuracy\n",
    "print(\"Random Forest Accuracy (Scaled Data):\", accuracy_scaled)"
   ]
  },
  {
   "cell_type": "code",
   "execution_count": 20,
   "metadata": {},
   "outputs": [
    {
     "name": "stdout",
     "output_type": "stream",
     "text": [
      "Random Forest Accuracy (Non-scaled Data): 0.034782608695652174\n",
      "Predicted Numbers for the Next Round: [ 4  9 21 27 28 35]\n",
      "Predicted Bonus Number for the Next Round: 24\n"
     ]
    },
    {
     "name": "stderr",
     "output_type": "stream",
     "text": [
      "c:\\Users\\godsj\\miniconda3\\lib\\site-packages\\sklearn\\base.py:493: UserWarning: X does not have valid feature names, but RandomForestClassifier was fitted with feature names\n",
      "  warnings.warn(\n"
     ]
    }
   ],
   "source": [
    "# Train Random Forest (assuming X_train_original, y_train_original are defined)\n",
    "rf_original = RandomForestClassifier(random_state=42)\n",
    "rf_original.fit(X_train_original, y_train_original)  # Train the model with training data\n",
    "\n",
    "# Example of new input data (replace with recent numbers)\n",
    "next_round_input = [[3, 11, 16, 23, 29, 33]]  # Example: 1148회 당첨 번호\n",
    "\n",
    "# Predict the next bonus number\n",
    "predicted_bonus = rf_original.predict(next_round_input)\n",
    "\n",
    "# Generate 6 random numbers using uniform probability\n",
    "# Since feature importance does not cover all 45 numbers, we use a uniform distribution\n",
    "predicted_numbers = np.random.choice(range(1, 46), size=6, replace=False)\n",
    "predicted_numbers.sort()  # Sort numbers for better readability\n",
    "\n",
    "print(\"Random Forest Accuracy (Non-scaled Data):\", accuracy_original)\n",
    "print(\"Predicted Numbers for the Next Round:\", predicted_numbers)\n",
    "print(\"Predicted Bonus Number for the Next Round:\", predicted_bonus[0])"
   ]
  },
  {
   "cell_type": "markdown",
   "metadata": {},
   "source": [
    "## XGBoost"
   ]
  },
  {
   "cell_type": "code",
   "execution_count": 21,
   "metadata": {},
   "outputs": [],
   "source": [
    "from xgboost import XGBClassifier\n",
    "from sklearn.metrics import accuracy_score\n",
    "from sklearn.model_selection import train_test_split\n",
    "import numpy as np"
   ]
  },
  {
   "cell_type": "code",
   "execution_count": 22,
   "metadata": {},
   "outputs": [],
   "source": [
    "# Adjust the target values to start from 0\n",
    "y_train_adjusted = y_train_original - 1\n",
    "y_test_adjusted = y_test_original - 1"
   ]
  },
  {
   "cell_type": "code",
   "execution_count": 23,
   "metadata": {},
   "outputs": [],
   "source": [
    "# Train XGBoost for Bonus Number\n",
    "xgb_bonus = XGBClassifier(random_state=42, eval_metric='mlogloss')  # Initialize XGBoost\n",
    "xgb_bonus.fit(X_train_original, y_train_adjusted)  # Train the model\n",
    "y_pred_bonus = xgb_bonus.predict(X_test_original) + 1  # Adjust predictions back to original range\n",
    "accuracy_bonus = accuracy_score(y_test_original, y_pred_bonus)  # Calculate accuracy\n"
   ]
  },
  {
   "cell_type": "code",
   "execution_count": 24,
   "metadata": {},
   "outputs": [
    {
     "name": "stdout",
     "output_type": "stream",
     "text": [
      "XGBoost Accuracy (Bonus Number): 0.04782608695652174\n",
      "Predicted Bonus Number for the Next Round: 21\n"
     ]
    }
   ],
   "source": [
    "# Predict Bonus Number for the Next Round\n",
    "next_round_input = [[3, 11, 16, 23, 29, 33]]  # Example input: 1148회 당첨 번호\n",
    "predicted_bonus = xgb_bonus.predict(next_round_input) + 1  # Adjust back to original range\n",
    "\n",
    "print(\"XGBoost Accuracy (Bonus Number):\", accuracy_bonus)\n",
    "print(\"Predicted Bonus Number for the Next Round:\", predicted_bonus[0])"
   ]
  },
  {
   "cell_type": "markdown",
   "metadata": {},
   "source": [
    "# Scaled Data"
   ]
  },
  {
   "cell_type": "markdown",
   "metadata": {},
   "source": [
    "## Support Vector Machine (SVM)"
   ]
  },
  {
   "cell_type": "code",
   "execution_count": 35,
   "metadata": {},
   "outputs": [
    {
     "name": "stdout",
     "output_type": "stream",
     "text": [
      "SVM Accuracy (Scaled Data): 0.021739130434782608\n"
     ]
    }
   ],
   "source": [
    "# SVM with Scaled Data\n",
    "svm_model = SVC(random_state=42)  # Initialize SVM\n",
    "svm_model.fit(X_train_scaled, y_train_scaled)  # Train the model\n",
    "y_pred_svm = svm_model.predict(X_test_scaled)  # Predict on test data\n",
    "accuracy_svm = accuracy_score(y_test_scaled, y_pred_svm)  # Calculate accuracy\n",
    "print(\"SVM Accuracy (Scaled Data):\", accuracy_svm)"
   ]
  },
  {
   "cell_type": "markdown",
   "metadata": {},
   "source": [
    "## K-Nearest Neighbors (KNN)"
   ]
  },
  {
   "cell_type": "code",
   "execution_count": 40,
   "metadata": {},
   "outputs": [
    {
     "name": "stdout",
     "output_type": "stream",
     "text": [
      "KNN Accuracy (Scaled Data): 0.043478260869565216\n",
      "Predicted Bonus Number for the Next Round: 9\n",
      "Predicted Numbers for the Next Round: [ 4  5  9 40 42 45]\n"
     ]
    },
    {
     "name": "stderr",
     "output_type": "stream",
     "text": [
      "c:\\Users\\godsj\\miniconda3\\lib\\site-packages\\sklearn\\base.py:493: UserWarning: X does not have valid feature names, but KNeighborsClassifier was fitted with feature names\n",
      "  warnings.warn(\n"
     ]
    }
   ],
   "source": [
    "from sklearn.neighbors import KNeighborsClassifier\n",
    "from sklearn.metrics import accuracy_score\n",
    "import numpy as np\n",
    "\n",
    "# Train KNN on Scaled Data\n",
    "knn = KNeighborsClassifier(n_neighbors=5)  # Initialize KNN with 5 neighbors\n",
    "knn.fit(X_train_scaled, y_train_scaled)  # Train the model\n",
    "\n",
    "# Test KNN on the test set\n",
    "y_pred_knn = knn.predict(X_test_scaled)  # Predict on test data\n",
    "accuracy_knn = accuracy_score(y_test_scaled, y_pred_knn)  # Calculate accuracy\n",
    "print(\"KNN Accuracy (Scaled Data):\", accuracy_knn)  # Print accuracy\n",
    "\n",
    "# Predict the next bonus number\n",
    "# Example of new input data (replace with the latest winning numbers)\n",
    "next_round_input = [[3, 11, 16, 23, 29, 33]]  # Example: 1148회 당첨 번호\n",
    "predicted_bonus = knn.predict(next_round_input)  # Predict the bonus number for the next round\n",
    "print(\"Predicted Bonus Number for the Next Round:\", predicted_bonus[0])  # Print bonus number\n",
    "\n",
    "# Generate 6 random numbers using uniform distribution (simulate lotto number prediction)\n",
    "predicted_numbers = np.random.choice(range(1, 46), size=6, replace=False)  # Generate 6 numbers\n",
    "predicted_numbers.sort()  # Sort for better readability\n",
    "print(\"Predicted Numbers for the Next Round:\", predicted_numbers)  # Print 6 predicted numbers"
   ]
  },
  {
   "cell_type": "markdown",
   "metadata": {},
   "source": [
    "## Gradient Boosting (XGBoost)"
   ]
  },
  {
   "cell_type": "code",
   "execution_count": 48,
   "metadata": {},
   "outputs": [
    {
     "name": "stdout",
     "output_type": "stream",
     "text": [
      "XGBoost Accuracy (Bonus Number): 0.04782608695652174\n",
      "Predicted Bonus Number for the Next Round: 32\n",
      "Predicted Numbers for the Next Round: [12 14 20 30 36 40]\n"
     ]
    }
   ],
   "source": [
    "from xgboost import XGBClassifier\n",
    "from sklearn.metrics import accuracy_score\n",
    "import numpy as np\n",
    "\n",
    "# Adjust the target values to start from 0\n",
    "y_train_adjusted = y_train - 1\n",
    "y_test_adjusted = y_test - 1\n",
    "\n",
    "# Train XGBoost Classifier for Bonus Number Prediction\n",
    "xgb = XGBClassifier(random_state=42)\n",
    "xgb.fit(X_train, y_train_adjusted)\n",
    "\n",
    "# Predict Bonus Numbers (adjusted back to original range)\n",
    "y_pred = xgb.predict(X_test) + 1  # Add 1 to restore the original range\n",
    "accuracy = accuracy_score(y_test, y_pred)\n",
    "print(\"XGBoost Accuracy (Bonus Number):\", accuracy)\n",
    "\n",
    "# Predict next bonus number (adjusted input)\n",
    "next_round_input = [[3, 11, 16, 23, 29, 33]]  # Example input: 1148회 당첨 번호\n",
    "predicted_bonus = xgb.predict(next_round_input) + 1  # Adjust back to original range\n",
    "print(\"Predicted Bonus Number for the Next Round:\", predicted_bonus[0])\n",
    "\n",
    "# Generate 6 random numbers for the next round\n",
    "predicted_numbers = np.random.choice(range(1, 46), size=6, replace=False)\n",
    "predicted_numbers.sort()\n",
    "print(\"Predicted Numbers for the Next Round:\", predicted_numbers)"
   ]
  },
  {
   "cell_type": "markdown",
   "metadata": {},
   "source": [
    "# Combining PCA and Random Forest for Lotto Number Prediction"
   ]
  },
  {
   "cell_type": "code",
   "execution_count": 1,
   "metadata": {},
   "outputs": [],
   "source": [
    "# Import necessary libraries\n",
    "from sklearn.decomposition import PCA  # For dimensionality reduction\n",
    "from sklearn.ensemble import RandomForestClassifier  # For supervised learning\n",
    "from sklearn.metrics import accuracy_score  # For evaluating model performance\n",
    "from sklearn.model_selection import train_test_split  # For splitting the data\n",
    "import numpy as np"
   ]
  },
  {
   "cell_type": "code",
   "execution_count": null,
   "metadata": {},
   "outputs": [],
   "source": [
    "# 1. PCA를 사용하여 데이터의 주요 특징 추출\n",
    "# Apply PCA to extract the most important features\n",
    "pca = PCA(n_components=3)  # Reduce data to 3 principal components\n",
    "pca_features = pca.fit_transform(X_original)  # Fit and transform the original data"
   ]
  },
  {
   "cell_type": "code",
   "execution_count": 5,
   "metadata": {},
   "outputs": [],
   "source": [
    "# Combine original features with PCA features\n",
    "X_with_pca = np.hstack([X_original, pca_features])  # Append PCA features to original data"
   ]
  },
  {
   "cell_type": "code",
   "execution_count": null,
   "metadata": {},
   "outputs": [],
   "source": [
    "# 2. Random Forest를 사용하여 각 번호(1~6)를 예측\n",
    "# Initialize lists to store predicted numbers and accuracies\n",
    "predicted_numbers = []\n",
    "accuracies = []"
   ]
  },
  {
   "cell_type": "code",
   "execution_count": 9,
   "metadata": {},
   "outputs": [],
   "source": [
    "next_round_input = np.array([[3, 11, 16, 23, 29, 33]])  # Replace with recent winning numbers"
   ]
  },
  {
   "cell_type": "code",
   "execution_count": 10,
   "metadata": {},
   "outputs": [
    {
     "name": "stderr",
     "output_type": "stream",
     "text": [
      "c:\\Users\\godsj\\miniconda3\\lib\\site-packages\\sklearn\\base.py:493: UserWarning: X does not have valid feature names, but PCA was fitted with feature names\n",
      "  warnings.warn(\n",
      "c:\\Users\\godsj\\miniconda3\\lib\\site-packages\\sklearn\\base.py:493: UserWarning: X does not have valid feature names, but PCA was fitted with feature names\n",
      "  warnings.warn(\n",
      "c:\\Users\\godsj\\miniconda3\\lib\\site-packages\\sklearn\\base.py:493: UserWarning: X does not have valid feature names, but PCA was fitted with feature names\n",
      "  warnings.warn(\n",
      "c:\\Users\\godsj\\miniconda3\\lib\\site-packages\\sklearn\\base.py:493: UserWarning: X does not have valid feature names, but PCA was fitted with feature names\n",
      "  warnings.warn(\n",
      "c:\\Users\\godsj\\miniconda3\\lib\\site-packages\\sklearn\\base.py:493: UserWarning: X does not have valid feature names, but PCA was fitted with feature names\n",
      "  warnings.warn(\n",
      "c:\\Users\\godsj\\miniconda3\\lib\\site-packages\\sklearn\\base.py:493: UserWarning: X does not have valid feature names, but PCA was fitted with feature names\n",
      "  warnings.warn(\n"
     ]
    }
   ],
   "source": [
    "for i in range(1, 7):\n",
    "    # Set the target for the current number\n",
    "    y = original_data[f'Number{i}'].astype(int)  # Extract target column\n",
    "    \n",
    "    # Split the data into training and testing sets\n",
    "    X_train, X_test, y_train, y_test = train_test_split(\n",
    "        X_with_pca, y, test_size=0.2, random_state=42\n",
    "    )\n",
    "\n",
    "    # Train a Random Forest model\n",
    "    rf_model = RandomForestClassifier(random_state=42)\n",
    "    rf_model.fit(X_train, y_train)\n",
    "\n",
    "    # Predict and calculate accuracy on the test set\n",
    "    y_pred = rf_model.predict(X_test)\n",
    "    accuracy = accuracy_score(y_test, y_pred)\n",
    "    accuracies.append(accuracy)\n",
    "\n",
    "    # Predict the next number using PCA-transformed input\n",
    "    next_round_input_with_pca = np.hstack([next_round_input, pca.transform(next_round_input)])  # Add PCA features\n",
    "    predicted_number = rf_model.predict(next_round_input_with_pca)\n",
    "    predicted_numbers.append(predicted_number[0])  # Store the predicted number"
   ]
  },
  {
   "cell_type": "code",
   "execution_count": 12,
   "metadata": {},
   "outputs": [
    {
     "name": "stdout",
     "output_type": "stream",
     "text": [
      "Random Forest Accuracies with PCA for Each Number: [0.9260869565217391, 0.9260869565217391, 0.9260869565217391, 0.9304347826086956, 0.9304347826086956, 0.8956521739130435, 0.8826086956521739, 0.8652173913043478]\n",
      "Predicted Numbers for the Next Round: [3, 11, 16, 23, 29, 33]\n"
     ]
    }
   ],
   "source": [
    "# Display the results\n",
    "# Convert NumPy int64 predictions to Python int for better readability\n",
    "predicted_numbers = [int(num) for num in predicted_numbers]  # Convert np.int64 to int\n",
    "\n",
    "# Print accuracies and predicted numbers\n",
    "print(\"Random Forest Accuracies with PCA for Each Number:\", accuracies)\n",
    "print(\"Predicted Numbers for the Next Round:\", predicted_numbers)"
   ]
  },
  {
   "cell_type": "code",
   "execution_count": 16,
   "metadata": {},
   "outputs": [
    {
     "data": {
      "image/png": "[encoded data removed]",
      "text/plain": [
       "<Figure size 1200x600 with 1 Axes>"
      ]
     },
     "metadata": {},
     "output_type": "display_data"
    }
   ],
   "source": [
    "# Count the frequency of each number in the original data\n",
    "number_counts = np.zeros(45)  # Array to store counts for numbers 1 to 45\n",
    "for i in range(1, 7):  # Loop through Number1 to Number6\n",
    "    number_counts += np.bincount(original_data[f'Number{i}'], minlength=46)[1:]\n",
    "\n",
    "# Plot the frequency of each number\n",
    "plt.figure(figsize=(12, 6))\n",
    "plt.bar(range(1, 46), number_counts, color='skyblue', edgecolor='black')\n",
    "plt.title(\"Frequency of Lotto Numbers\", fontsize=16)\n",
    "plt.xlabel(\"Lotto Number\", fontsize=14)\n",
    "plt.ylabel(\"Frequency\", fontsize=14)\n",
    "plt.xticks(range(1, 46))\n",
    "plt.grid(alpha=0.3)\n",
    "plt.show()"
   ]
  }
 ],
 "metadata": {
  "kernelspec": {
   "display_name": "base",
   "language": "python",
   "name": "python3"
  },
  "language_info": {
   "codemirror_mode": {
    "name": "ipython",
    "version": 3
   },
   "file_extension": ".py",
   "mimetype": "text/x-python",
   "name": "python",
   "nbconvert_exporter": "python",
   "pygments_lexer": "ipython3",
   "version": "3.10.15"
  }
 },
 "nbformat": 4,
 "nbformat_minor": 2
}
