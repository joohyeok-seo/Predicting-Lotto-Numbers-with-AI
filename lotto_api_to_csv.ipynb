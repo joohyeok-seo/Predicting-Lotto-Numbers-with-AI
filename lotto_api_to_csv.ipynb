{
 "cells": [
  {
   "cell_type": "code",
   "execution_count": 7,
   "metadata": {},
   "outputs": [],
   "source": [
    "import requests\n",
    "import pandas as pd"
   ]
  },
  {
   "cell_type": "code",
   "execution_count": 11,
   "metadata": {},
   "outputs": [],
   "source": [
    "# Function to fetch lotto data for a specified range of rounds\n",
    "def get_lotto_data(start_round, end_round):\n",
    "    lotto_results = []  # List to store the results\n",
    "\n",
    "    for round_no in range(start_round, end_round + 1):  # Loop through the specified range of rounds\n",
    "        url = f\"https://www.dhlottery.co.kr/common.do?method=getLottoNumber&drwNo={round_no}\"\n",
    "        response = requests.get(url)  # Send a request to the API\n",
    "        \n",
    "        if response.status_code == 200:  # Check if the request was successful\n",
    "            data = response.json()\n",
    "            if data['returnValue'] == 'success':  # Verify if the response is valid\n",
    "                lotto_results.append({\n",
    "                    'Round': data['drwNo'],  # Round number\n",
    "                    'Date': data['drwNoDate'],  # Draw date\n",
    "                    'Numbers': [data[f'drwtNo{i}'] for i in range(1, 7)],  # Winning numbers\n",
    "                    'Bonus': data['bnusNo']  # Bonus number\n",
    "                })\n",
    "        else:\n",
    "            print(f\"Failed to fetch data for round {round_no}\")  # Log failure if the request fails\n",
    "    \n",
    "    return pd.DataFrame(lotto_results)  # Return the results as a DataFrame"
   ]
  },
  {
   "cell_type": "code",
   "execution_count": 12,
   "metadata": {},
   "outputs": [],
   "source": [
    "# Define start and end round numbers\n",
    "start_round = 1  # Start from the first round\n",
    "end_round = 1148  # The latest round (as of now)"
   ]
  },
  {
   "cell_type": "code",
   "execution_count": 13,
   "metadata": {},
   "outputs": [],
   "source": [
    "# Fetch lotto data\n",
    "lotto_data = get_lotto_data(start_round, end_round)"
   ]
  },
  {
   "cell_type": "code",
   "execution_count": 17,
   "metadata": {},
   "outputs": [
    {
     "name": "stdout",
     "output_type": "stream",
     "text": [
      "      Round        Date                  Numbers  Bonus\n",
      "1143   1144  2024-11-02   [3, 4, 12, 15, 26, 34]      6\n",
      "1144   1145  2024-11-09  [2, 11, 31, 33, 37, 44]     32\n",
      "1145   1146  2024-11-16  [6, 11, 17, 19, 40, 43]     28\n",
      "1146   1147  2024-11-23  [7, 11, 24, 26, 27, 37]     32\n",
      "1147   1148  2024-11-30   [3, 6, 13, 15, 16, 22]     32\n"
     ]
    }
   ],
   "source": [
    "# Display the first few rows of the DataFrame\n",
    "print(lotto_data.tail())  # Display the first 5 rows"
   ]
  },
  {
   "cell_type": "code",
   "execution_count": 22,
   "metadata": {},
   "outputs": [
    {
     "name": "stdout",
     "output_type": "stream",
     "text": [
      "Lotto data saved to 'lotto_data_1_to_1148.csv'!\n"
     ]
    }
   ],
   "source": [
    "# Save the collected data to a CSV file\n",
    "lotto_data.to_csv(\"lotto_data_1_to_1148.csv\", index=False, encoding='utf-8')  # Save as CSV\n",
    "print(\"Lotto data saved to 'lotto_data_1_to_1148.csv'!\")  # Print success message"
   ]
  }
 ],
 "metadata": {
  "kernelspec": {
   "display_name": "base",
   "language": "python",
   "name": "python3"
  },
  "language_info": {
   "codemirror_mode": {
    "name": "ipython",
    "version": 3
   },
   "file_extension": ".py",
   "mimetype": "text/x-python",
   "name": "python",
   "nbconvert_exporter": "python",
   "pygments_lexer": "ipython3",
   "version": "3.10.15"
  }
 },
 "nbformat": 4,
 "nbformat_minor": 2
}
